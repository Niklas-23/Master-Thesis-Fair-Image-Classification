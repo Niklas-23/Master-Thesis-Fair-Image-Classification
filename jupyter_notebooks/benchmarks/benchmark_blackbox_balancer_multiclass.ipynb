{
 "cells": [
  {
   "cell_type": "code",
   "metadata": {
    "collapsed": true,
    "pycharm": {
     "name": "#%%\n"
    },
    "ExecuteTime": {
     "end_time": "2024-05-10T09:10:12.200258Z",
     "start_time": "2024-05-10T09:10:12.132204Z"
    }
   },
   "source": [
    "from src.mitigation.BlackboxMulticlassBalancer import BlackboxMulticlassBalancerBechmark\n",
    "from src.benchmark_models.ResNet18 import ResNet18\n",
    "from src.datasets.UTKFaceDataset import UTKFaceDataset"
   ],
   "execution_count": 5,
   "outputs": []
  },
  {
   "cell_type": "code",
   "source": [
    "%load_ext autoreload\n",
    "%autoreload 2\n",
    "%reload_ext autoreload"
   ],
   "metadata": {
    "collapsed": false,
    "pycharm": {
     "name": "#%%\n"
    },
    "ExecuteTime": {
     "end_time": "2024-05-10T09:09:30.066499Z",
     "start_time": "2024-05-10T09:09:29.918752Z"
    }
   },
   "execution_count": 3,
   "outputs": []
  },
  {
   "cell_type": "code",
   "execution_count": 24,
   "source": [
    "\n",
    "%reload_ext autoreload\n",
    "from src.datasets.CelebA_dataset import CelebADataset\n",
    "\n",
    "celeba_dataset = CelebADataset(input_shape=(128,128), usage=0.01)\n"
   ],
   "metadata": {
    "collapsed": false,
    "pycharm": {
     "name": "#%%\n"
    }
   },
   "outputs": []
  },
  {
   "cell_type": "code",
   "execution_count": 32,
   "source": [
    "%reload_ext autoreload\n",
    "celeba_model = ResNet18()\n",
    "\n",
    "blackbox_balancer_benchmark_celeba = BlackboxMulticlassBalancerBechmark(celeba_model, celeba_dataset, device=\"mps\", model_path=\"blackbox_balancer/celeba/default\", batch_size=32)\n",
    "blackbox_balancer_benchmark_celeba.run_benchmark()"
   ],
   "metadata": {
    "collapsed": false,
    "pycharm": {
     "name": "#%%\n"
    }
   },
   "outputs": []
  },
  {
   "cell_type": "code",
   "source": [
    "%reload_ext autoreload\n",
    "\n",
    "utk_dataset = utk_face_dataset = UTKFaceDataset()\n",
    "utk_model = ResNet18(num_classes=utk_dataset.get_num_classes_target())\n",
    "\n",
    "blackbox_balancer_benchmark_utk = BlackboxMulticlassBalancerBechmark(utk_model, utk_dataset, device=\"cuda\", model_path=\"blackbox_balancer/utk_face/10052024\", batch_size=512)\n",
    "blackbox_balancer_benchmark_utk.run_benchmark()"
   ],
   "metadata": {
    "collapsed": false,
    "pycharm": {
     "name": "#%%\n"
    },
    "ExecuteTime": {
     "end_time": "2024-05-10T09:11:21.575286Z",
     "start_time": "2024-05-10T09:11:01.837815Z"
    }
   },
   "execution_count": 7,
   "outputs": []
  },
  {
   "cell_type": "code",
   "execution_count": null,
   "source": [],
   "metadata": {
    "collapsed": false,
    "pycharm": {
     "name": "#%%\n"
    }
   },
   "outputs": []
  }
 ],
 "metadata": {
  "kernelspec": {
   "display_name": "Python 3",
   "language": "python",
   "name": "python3"
  },
  "language_info": {
   "codemirror_mode": {
    "name": "ipython",
    "version": 2
   },
   "file_extension": ".py",
   "mimetype": "text/x-python",
   "name": "python",
   "nbconvert_exporter": "python",
   "pygments_lexer": "ipython2",
   "version": "2.7.6"
  }
 },
 "nbformat": 4,
 "nbformat_minor": 0
}
