{
 "cells": [
  {
   "cell_type": "code",
   "source": [
    "from src.mitigation.DomainIndependentTraining import DomainIndependentTrainingBenchmark"
   ],
   "metadata": {
    "collapsed": false,
    "pycharm": {
     "name": "#%%\n"
    },
    "ExecuteTime": {
     "end_time": "2024-05-10T09:11:39.868278Z",
     "start_time": "2024-05-10T09:11:37.681934Z"
    }
   },
   "execution_count": 1,
   "outputs": []
  },
  {
   "cell_type": "code",
   "source": [
    "%load_ext autoreload\n",
    "%autoreload 2\n",
    "%reload_ext autoreload"
   ],
   "metadata": {
    "collapsed": false,
    "pycharm": {
     "name": "#%%\n"
    },
    "ExecuteTime": {
     "end_time": "2024-05-10T09:11:39.991995Z",
     "start_time": "2024-05-10T09:11:39.868278Z"
    }
   },
   "execution_count": 2,
   "outputs": []
  },
  {
   "cell_type": "code",
   "execution_count": 3,
   "source": [
    "%reload_ext autoreload\n",
    "from src.datasets.CelebA_dataset import CelebADataset\n",
    "\n",
    "celeba_dataset = CelebADataset(input_shape=(128,128), usage=0.1)\n",
    "daomin_independent_learning_benchmark_fair_face = DomainIndependentTrainingBenchmark(celeba_dataset, device=\"mps\", model_path=\"domain_independent_learning/celeba\", batch_size=32)\n",
    "daomin_independent_learning_benchmark_fair_face.run_benchmark()"
   ],
   "metadata": {
    "collapsed": false,
    "pycharm": {
     "name": "#%%\n"
    }
   },
   "outputs": []
  },
  {
   "cell_type": "code",
   "source": [
    "%reload_ext autoreload\n",
    "from src.datasets.UTKFaceDataset import UTKFaceDataset\n",
    "\n",
    "utk_face_dataset = UTKFaceDataset()\n",
    "daomin_independent_learning_benchmark_utk = DomainIndependentTrainingBenchmark(utk_face_dataset, device=\"cuda\", model_path=\"domain_independent_learning/utk_face/10052024\", batch_size=512)\n",
    "daomin_independent_learning_benchmark_utk.run_benchmark()"
   ],
   "metadata": {
    "collapsed": false,
    "pycharm": {
     "name": "#%%\n"
    },
    "ExecuteTime": {
     "end_time": "2024-05-10T11:22:15.933324Z",
     "start_time": "2024-05-10T09:12:09.993146Z"
    }
   },
   "execution_count": 3,
   "outputs": []
  }
 ],
 "metadata": {
  "kernelspec": {
   "display_name": "Python 3",
   "language": "python",
   "name": "python3"
  },
  "language_info": {
   "codemirror_mode": {
    "name": "ipython",
    "version": 2
   },
   "file_extension": ".py",
   "mimetype": "text/x-python",
   "name": "python",
   "nbconvert_exporter": "python",
   "pygments_lexer": "ipython2",
   "version": "2.7.6"
  }
 },
 "nbformat": 4,
 "nbformat_minor": 0
}
