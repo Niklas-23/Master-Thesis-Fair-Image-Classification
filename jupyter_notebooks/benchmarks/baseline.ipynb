{
 "cells": [
  {
   "cell_type": "code",
   "source": [
    "from src.benchmark_models.ResNet18 import ResNet18\n",
    "from src.mitigation.Baseline import BaselineBenchmark"
   ],
   "metadata": {
    "collapsed": false,
    "pycharm": {
     "name": "#%%\n"
    },
    "ExecuteTime": {
     "end_time": "2024-05-18T14:58:27.644919Z",
     "start_time": "2024-05-18T14:58:22.058905Z"
    }
   },
   "execution_count": 1,
   "outputs": []
  },
  {
   "metadata": {
    "ExecuteTime": {
     "end_time": "2024-05-18T14:58:27.785752Z",
     "start_time": "2024-05-18T14:58:27.644919Z"
    }
   },
   "cell_type": "code",
   "source": [
    "%load_ext autoreload\n",
    "%autoreload 2\n",
    "%reload_ext autoreload"
   ],
   "execution_count": 2,
   "outputs": []
  },
  {
   "cell_type": "code",
   "source": "batch_size = 512",
   "metadata": {
    "collapsed": false,
    "pycharm": {
     "name": "#%%\n"
    },
    "ExecuteTime": {
     "end_time": "2024-05-18T14:58:27.866815Z",
     "start_time": "2024-05-18T14:58:27.785752Z"
    }
   },
   "execution_count": 3,
   "outputs": []
  },
  {
   "cell_type": "code",
   "source": [
    "%reload_ext autoreload\n",
    "from src.datasets.CelebA_dataset import CelebADataset\n",
    "\n",
    "celeba_dataset = CelebADataset(input_shape=(128,128))\n",
    "resnet18_model_celeba = ResNet18(num_classes=2)\n",
    "base_loss_benchmark_celeba =  BaselineBenchmark(resnet18_model_celeba, celeba_dataset, device=\"cuda\", model_path=\"plain_baseline/celeba/07052024\", batch_size=batch_size)\n",
    "base_loss_benchmark_celeba.run_benchmark()"
   ],
   "metadata": {
    "collapsed": false,
    "pycharm": {
     "name": "#%%\n"
    },
    "jupyter": {
     "is_executing": true
    },
    "ExecuteTime": {
     "start_time": "2024-05-13T08:22:54.858257Z"
    }
   },
   "execution_count": null,
   "outputs": []
  },
  {
   "cell_type": "code",
   "source": [
    "%reload_ext autoreload\n",
    "from src.datasets.UTKFaceDataset import UTKFaceDataset\n",
    "\n",
    "utk_face_dataset = UTKFaceDataset(input_shape=(128,128))\n",
    "resnet18_model_utk = ResNet18(num_classes=utk_face_dataset.get_num_classes_target())\n",
    "base_loss_benchmark_celeba =  BaselineBenchmark(resnet18_model_utk, utk_face_dataset, device=\"cuda\", model_path=\"plain_baseline/utk_face/09052024\", batch_size=batch_size)\n",
    "base_loss_benchmark_celeba.run_benchmark()"
   ],
   "metadata": {
    "collapsed": false,
    "pycharm": {
     "name": "#%%\n"
    },
    "ExecuteTime": {
     "start_time": "2024-05-09T11:11:04.715517Z"
    }
   },
   "execution_count": null,
   "outputs": []
  },
  {
   "metadata": {
    "ExecuteTime": {
     "end_time": "2024-05-12T12:08:39.181606Z",
     "start_time": "2024-05-12T12:08:34.160220Z"
    }
   },
   "cell_type": "code",
   "source": [
    "%reload_ext autoreload\n",
    "from src.datasets.FairFaceDataset import FairFaceDataset\n",
    "\n",
    "fair_face_dataset = FairFaceDataset(input_shape=(128,128), selected_target_name=\"race\")\n",
    "resnet18_model_fair_face= ResNet18(num_classes=fair_face_dataset.get_num_classes_target())\n",
    "base_loss_benchmark_fair_face=  BaselineBenchmark(resnet18_model_fair_face, fair_face_dataset, device=\"cuda\", model_path=\"plain_baseline/fair_face/09052024\", batch_size=batch_size)\n",
    "base_loss_benchmark_fair_face.run_benchmark()"
   ],
   "execution_count": 6,
   "outputs": []
  },
  {
   "metadata": {
    "ExecuteTime": {
     "end_time": "2024-05-18T15:10:47.649469Z",
     "start_time": "2024-05-18T15:10:07.746617Z"
    }
   },
   "cell_type": "code",
   "source": [
    "%reload_ext autoreload\n",
    "from src.datasets.LFWDataset import LFWDataset\n",
    "\n",
    "lfw_dataset = LFWDataset()\n",
    "resnet18_model_lfw= ResNet18(num_classes=lfw_dataset.get_num_classes_target())\n",
    "baseline_lfw=  BaselineBenchmark(resnet18_model_lfw, lfw_dataset, device=\"cuda\", model_path=\"plain_baseline/lfw/18052024\", batch_size=batch_size)\n",
    "baseline_lfw.run_benchmark()"
   ],
   "execution_count": 5,
   "outputs": []
  }
 ],
 "metadata": {
  "kernelspec": {
   "display_name": "Python 3",
   "language": "python",
   "name": "python3"
  },
  "language_info": {
   "codemirror_mode": {
    "name": "ipython",
    "version": 2
   },
   "file_extension": ".py",
   "mimetype": "text/x-python",
   "name": "python",
   "nbconvert_exporter": "python",
   "pygments_lexer": "ipython2",
   "version": "2.7.6"
  }
 },
 "nbformat": 4,
 "nbformat_minor": 0
}
