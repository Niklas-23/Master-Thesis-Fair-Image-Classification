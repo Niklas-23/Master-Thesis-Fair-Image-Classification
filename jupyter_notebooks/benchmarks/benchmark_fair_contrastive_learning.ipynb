{
 "cells": [
  {
   "cell_type": "code",
   "metadata": {
    "collapsed": true,
    "pycharm": {
     "name": "#%%\n"
    },
    "ExecuteTime": {
     "end_time": "2024-06-05T18:12:07.624787Z",
     "start_time": "2024-06-05T18:11:59.206706Z"
    }
   },
   "source": [
    "from src.mitigation.FairContrastiveLearning import FairContrastiveLearningBenchmark\n",
    "from src.fairness_libraries.fair_contrastive_learning.FairSupConModels import FairSupConResNet18, LinearClassifier\n",
    "from src.mitigation.FairContrastiveLearning import TwoCropTransform"
   ],
   "execution_count": 1,
   "outputs": []
  },
  {
   "cell_type": "code",
   "source": [
    "%load_ext autoreload\n",
    "%autoreload 2\n",
    "%reload_ext autoreload"
   ],
   "metadata": {
    "collapsed": false,
    "pycharm": {
     "name": "#%%\n"
    },
    "ExecuteTime": {
     "end_time": "2024-06-05T18:12:07.671447Z",
     "start_time": "2024-06-05T18:12:07.626036Z"
    }
   },
   "execution_count": 2,
   "outputs": []
  },
  {
   "cell_type": "code",
   "source": [
    "from torchvision import transforms\n",
    "train_transform = transforms.Compose([\n",
    "        transforms.RandomResizedCrop(size=(128,128), scale=(0.2, 1.)),\n",
    "        transforms.RandomHorizontalFlip(),\n",
    "        transforms.RandomApply([\n",
    "            transforms.ColorJitter(0.4, 0.4, 0.4, 0.1)\n",
    "        ], p=0.8),\n",
    "        transforms.RandomGrayscale(p=0.2),\n",
    "        transforms.ToTensor(),\n",
    "        transforms.Normalize(mean=(0.5000, 0.5000, 0.5000), std=(0.5000, 0.5000, 0.5000))\n",
    "    ])"
   ],
   "metadata": {
    "collapsed": false,
    "pycharm": {
     "name": "#%%\n"
    },
    "ExecuteTime": {
     "end_time": "2024-06-05T18:12:50.939659Z",
     "start_time": "2024-06-05T18:12:50.887974Z"
    }
   },
   "execution_count": 5,
   "outputs": []
  },
  {
   "cell_type": "code",
   "source": [
    "%reload_ext autoreload\n",
    "from src.datasets.CelebA_dataset import CelebADataset\n",
    "\n",
    "celeba_contrastive_dataset = CelebADataset(input_shape=(128,128), usage=0.1, transform=TwoCropTransform(train_transform))\n",
    "celeba_classifier_dataset = CelebADataset(input_shape=(128,128), usage=0.1)\n",
    "\n",
    "dataset_class = type(celeba_classifier_dataset)\n",
    "\n",
    "target_name, protected_feature_name = celeba_classifier_dataset.get_target_protected_feature_names()\n",
    "celeba_contrastive_dataset = dataset_class(input_shape=(128, 128), transform=TwoCropTransform(train_transform), target_name=target_name, protected_feature_name=protected_feature_name)\n"
   ],
   "metadata": {
    "collapsed": false,
    "pycharm": {
     "name": "#%%\n"
    },
    "jupyter": {
     "is_executing": true
    },
    "ExecuteTime": {
     "start_time": "2024-06-05T18:18:14.713053Z"
    }
   },
   "execution_count": null,
   "outputs": []
  },
  {
   "cell_type": "code",
   "execution_count": 5,
   "source": [
    "%reload_ext autoreload\n",
    "celeba_contrastive_model = FairSupConResNet18()\n",
    "celeba_classifier = LinearClassifier(num_classes=celeba_classifier_dataset.get_num_classes_target())\n",
    "\n",
    "fair_contrastive_benchmark_celeba = FairContrastiveLearningBenchmark(celeba_contrastive_model, celeba_classifier, celeba_contrastive_dataset, celeba_classifier_dataset, device=\"mps\", model_path=\"fair_contrastive/celeba/default_test\", batch_size=32)\n",
    "fair_contrastive_benchmark_celeba.run_benchmark()"
   ],
   "metadata": {
    "collapsed": false,
    "pycharm": {
     "name": "#%%\n"
    }
   },
   "outputs": []
  },
  {
   "cell_type": "code",
   "source": [
    "from src.datasets.UTKFaceDataset import UTKFaceDataset\n",
    "%reload_ext autoreload\n",
    "utk_contrastive_dataset = UTKFaceDataset(input_shape=(128,128), transform=TwoCropTransform(train_transform))\n",
    "utk_classifier_dataset = UTKFaceDataset(input_shape=(128,128))\n",
    "\n",
    "utk_contrastive_model = FairSupConResNet18()\n",
    "utk_classifier = LinearClassifier(num_classes=utk_classifier_dataset.get_num_classes_target())\n",
    "\n",
    "fair_contrastive_benchmark_utk = FairContrastiveLearningBenchmark(utk_contrastive_model, utk_classifier, utk_contrastive_dataset, utk_classifier_dataset, device=\"cuda\", model_path=\"fair_contrastive/utk_face/11052024\", batch_size=512)\n",
    "fair_contrastive_benchmark_utk.run_benchmark()"
   ],
   "metadata": {
    "collapsed": false,
    "pycharm": {
     "name": "#%%\n"
    },
    "ExecuteTime": {
     "start_time": "2024-05-11T10:20:53.396283Z"
    }
   },
   "execution_count": null,
   "outputs": []
  },
  {
   "metadata": {},
   "cell_type": "code",
   "execution_count": null,
   "source": "",
   "outputs": []
  }
 ],
 "metadata": {
  "kernelspec": {
   "display_name": "Python 3",
   "language": "python",
   "name": "python3"
  },
  "language_info": {
   "codemirror_mode": {
    "name": "ipython",
    "version": 2
   },
   "file_extension": ".py",
   "mimetype": "text/x-python",
   "name": "python",
   "nbconvert_exporter": "python",
   "pygments_lexer": "ipython2",
   "version": "2.7.6"
  }
 },
 "nbformat": 4,
 "nbformat_minor": 0
}
