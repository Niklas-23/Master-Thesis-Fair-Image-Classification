{
 "cells": [
  {
   "cell_type": "code",
   "execution_count": 1,
   "source": [
    "%load_ext autoreload\n",
    "%autoreload 2\n",
    "%reload_ext autoreload"
   ],
   "metadata": {
    "collapsed": false,
    "pycharm": {
     "name": "#%%\n"
    }
   },
   "outputs": []
  },
  {
   "cell_type": "code",
   "execution_count": 10,
   "source": [
    "from src.datasets.CelebA_dataset import CelebADataset\n",
    "from src.benchmark_models.ResNet18 import ResNet18\n",
    "from src.datasets.FairFaceDataset import FairFaceDataset\n",
    "fair_face_Dataset = FairFaceDataset()"
   ],
   "metadata": {
    "collapsed": false,
    "pycharm": {
     "name": "#%%\n"
    }
   },
   "outputs": []
  },
  {
   "cell_type": "code",
   "execution_count": 13,
   "source": [
    "%reload_ext autoreload\n",
    "from src.mitigation.ImageSketching import ImageSketchingBenchmark\n",
    "\n",
    "\n",
    "model_resnet18 = ResNet18(num_classes=fair_face_Dataset.get_num_classes_target())\n",
    "image_sketching_benchmark = ImageSketchingBenchmark(model_resnet18, fair_face_Dataset, device=\"cpu\", model_path=\"celeba/image_sketching/test\")\n",
    "image_sketching_benchmark.run_benchmark()"
   ],
   "metadata": {
    "collapsed": false,
    "pycharm": {
     "name": "#%%\n"
    }
   },
   "outputs": []
  },
  {
   "cell_type": "code",
   "execution_count": 5,
   "source": [],
   "metadata": {
    "collapsed": false,
    "pycharm": {
     "name": "#%%\n"
    }
   },
   "outputs": []
  }
 ],
 "metadata": {
  "kernelspec": {
   "display_name": "Python 3",
   "language": "python",
   "name": "python3"
  },
  "language_info": {
   "codemirror_mode": {
    "name": "ipython",
    "version": 2
   },
   "file_extension": ".py",
   "mimetype": "text/x-python",
   "name": "python",
   "nbconvert_exporter": "python",
   "pygments_lexer": "ipython2",
   "version": "2.7.6"
  }
 },
 "nbformat": 4,
 "nbformat_minor": 0
}
