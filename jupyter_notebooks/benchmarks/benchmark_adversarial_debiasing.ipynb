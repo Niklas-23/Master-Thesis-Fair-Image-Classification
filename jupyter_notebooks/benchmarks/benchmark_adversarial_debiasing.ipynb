{
 "cells": [
  {
   "cell_type": "code",
   "metadata": {
    "collapsed": true,
    "pycharm": {
     "name": "#%%\n"
    },
    "is_executing": true,
    "ExecuteTime": {
     "end_time": "2024-05-09T14:29:34.844239Z",
     "start_time": "2024-05-09T14:29:32.739133Z"
    }
   },
   "source": [
    "from src.benchmark_models.ResNet18 import ResNet18\n",
    "from src.mitigation.AdversarialDebiasing import AdversarialDebiasingBenchmark"
   ],
   "execution_count": 1,
   "outputs": []
  },
  {
   "cell_type": "code",
   "source": [
    "%load_ext autoreload\n",
    "%autoreload 2\n",
    "%reload_ext autoreload"
   ],
   "metadata": {
    "collapsed": false,
    "pycharm": {
     "name": "#%%\n"
    },
    "ExecuteTime": {
     "end_time": "2024-05-09T14:29:34.967739Z",
     "start_time": "2024-05-09T14:29:34.844239Z"
    }
   },
   "execution_count": 2,
   "outputs": []
  },
  {
   "cell_type": "code",
   "execution_count": null,
   "source": [
    "%reload_ext autoreload\n",
    "from src.datasets.CelebA_dataset import CelebADataset\n",
    "\n",
    "celeba_dataset = CelebADataset(input_shape=(128,128))\n",
    "resnet18_mode_celeba = ResNet18(num_classes=2)\n",
    "base_loss_benchmark_celeba = AdversarialDebiasingBenchmark(resnet18_mode_celeba, celeba_dataset, device=\"mps\", model_path=\"adversarial_debiasing/celeba\", batch_size=32)\n",
    "base_loss_benchmark_celeba.run_benchmark()"
   ],
   "metadata": {
    "collapsed": false,
    "pycharm": {
     "name": "#%%\n"
    }
   },
   "outputs": []
  },
  {
   "cell_type": "code",
   "source": [
    "%reload_ext autoreload\n",
    "from src.datasets.UTKFaceDataset import UTKFaceDataset\n",
    "\n",
    "utk_face_dataset = UTKFaceDataset()\n",
    "resnet18_model_utk_face = ResNet18(num_classes=utk_face_dataset.get_num_classes_target())\n",
    "base_loss_benchmark_fair_face = AdversarialDebiasingBenchmark(resnet18_model_utk_face, utk_face_dataset, device=\"cuda\", model_path=\"adversarial_debiasing/utk_face/09052024\", batch_size=512)\n",
    "base_loss_benchmark_fair_face.run_benchmark()"
   ],
   "metadata": {
    "collapsed": false,
    "pycharm": {
     "name": "#%%\n"
    },
    "ExecuteTime": {
     "end_time": "2024-05-09T15:30:49.825590Z",
     "start_time": "2024-05-09T14:29:37.417204Z"
    }
   },
   "execution_count": 3,
   "outputs": []
  },
  {
   "cell_type": "code",
   "execution_count": 7,
   "source": [
    "%reload_ext autoreload\n",
    "from src.datasets.FairFaceDataset import FairFaceDataset\n",
    "\n",
    "fair_face_dataset = FairFaceDataset()\n",
    "resnet18_model_fair_face = ResNet18(num_classes=7)\n",
    "base_loss_benchmark_fair_face = AdversarialDebiasingBenchmark(resnet18_model_fair_face, fair_face_dataset, device=\"mps\", model_path=\"adversarial_debiasing/fair_face\", batch_size=32)\n",
    "base_loss_benchmark_fair_face.run_benchmark()"
   ],
   "metadata": {
    "collapsed": false,
    "pycharm": {
     "name": "#%%\n"
    }
   },
   "outputs": []
  },
  {
   "cell_type": "code",
   "execution_count": 8,
   "source": [
    "%reload_ext autoreload\n",
    "from src.datasets.LFWDataset import LFWDataset\n",
    "\n",
    "lfw_dataset = LFWDataset()\n",
    "resnet18_model_lfw = ResNet18(num_classes=2)\n",
    "base_loss_benchmark_lfw = AdversarialDebiasingBenchmark(resnet18_model_lfw, lfw_dataset, device=\"mps\", model_path=\"adversarial_debiasing/lfw\", batch_size=32)\n",
    "base_loss_benchmark_lfw.run_benchmark()"
   ],
   "metadata": {
    "collapsed": false,
    "pycharm": {
     "name": "#%%\n"
    }
   },
   "outputs": []
  }
 ],
 "metadata": {
  "kernelspec": {
   "display_name": "Python 3",
   "language": "python",
   "name": "python3"
  },
  "language_info": {
   "codemirror_mode": {
    "name": "ipython",
    "version": 2
   },
   "file_extension": ".py",
   "mimetype": "text/x-python",
   "name": "python",
   "nbconvert_exporter": "python",
   "pygments_lexer": "ipython2",
   "version": "2.7.6"
  }
 },
 "nbformat": 4,
 "nbformat_minor": 0
}
