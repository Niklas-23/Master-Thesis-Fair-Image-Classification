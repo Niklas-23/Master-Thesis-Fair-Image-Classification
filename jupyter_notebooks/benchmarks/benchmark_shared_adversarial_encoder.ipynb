{
 "cells": [
  {
   "cell_type": "code",
   "execution_count": 1,
   "metadata": {
    "collapsed": true,
    "pycharm": {
     "name": "#%%\n"
    }
   },
   "source": [
    "from src.mitigation.SharedAdversarialEncoder import SharedAdversarialEncoderBenchmark\n",
    "from src.fairness_libraries.shared_adversarial_encoder.SharedEncoderResNet18 import SharedAdversarialEncoderResNet18"
   ],
   "outputs": []
  },
  {
   "cell_type": "code",
   "execution_count": 2,
   "source": [
    "%load_ext autoreload\n",
    "%autoreload 2\n",
    "%reload_ext autoreload"
   ],
   "metadata": {
    "collapsed": false,
    "pycharm": {
     "name": "#%%\n"
    }
   },
   "outputs": []
  },
  {
   "cell_type": "code",
   "execution_count": 3,
   "source": [
    "from src.datasets.UTKFaceDataset import UTKFaceDataset\n",
    "%reload_ext autoreload\n",
    "from src.datasets.CelebA_dataset import CelebADataset\n",
    "\n",
    "celeba_dataset = CelebADataset(input_shape=(128,128), usage=0.01)\n",
    "utk_dataset = utk_face_dataset = UTKFaceDataset(target_name=\"Age\")"
   ],
   "metadata": {
    "collapsed": false,
    "pycharm": {
     "name": "#%%\n"
    }
   },
   "outputs": []
  },
  {
   "cell_type": "code",
   "execution_count": 4,
   "source": [
    "%reload_ext autoreload\n",
    "celeba_model = SharedAdversarialEncoderResNet18()\n",
    "\n",
    "shared_adv_encoder_benchmark_celeba = SharedAdversarialEncoderBenchmark(celeba_model, celeba_dataset, device=\"mps\", model_path=\"shared_adv_encoder/celeba/default\", batch_size=32)\n",
    "shared_adv_encoder_benchmark_celeba.run_benchmark()"
   ],
   "metadata": {
    "collapsed": false,
    "pycharm": {
     "name": "#%%\n"
    }
   },
   "outputs": []
  },
  {
   "cell_type": "code",
   "execution_count": 6,
   "source": [
    "%reload_ext autoreload\n",
    "utk_model = SharedAdversarialEncoderResNet18()\n",
    "\n",
    "shared_adv_encoder_benchmark_utk = SharedAdversarialEncoderBenchmark(utk_model, celeba_dataset, device=\"mps\", model_path=\"shared_adv_encoder/utk_face/default\", batch_size=32)\n",
    "shared_adv_encoder_benchmark_utk.run_benchmark()"
   ],
   "metadata": {
    "collapsed": false,
    "pycharm": {
     "name": "#%%\n"
    }
   },
   "outputs": []
  },
  {
   "cell_type": "code",
   "execution_count": null,
   "source": [],
   "metadata": {
    "collapsed": false,
    "pycharm": {
     "name": "#%%\n"
    }
   },
   "outputs": []
  }
 ],
 "metadata": {
  "kernelspec": {
   "display_name": "Python 3",
   "language": "python",
   "name": "python3"
  },
  "language_info": {
   "codemirror_mode": {
    "name": "ipython",
    "version": 2
   },
   "file_extension": ".py",
   "mimetype": "text/x-python",
   "name": "python",
   "nbconvert_exporter": "python",
   "pygments_lexer": "ipython2",
   "version": "2.7.6"
  }
 },
 "nbformat": 4,
 "nbformat_minor": 0
}
