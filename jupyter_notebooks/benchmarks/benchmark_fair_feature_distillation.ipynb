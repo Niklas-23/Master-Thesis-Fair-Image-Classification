{
 "cells": [
  {
   "cell_type": "code",
   "execution_count": 5,
   "metadata": {
    "collapsed": true,
    "pycharm": {
     "name": "#%%\n"
    }
   },
   "outputs": [],
   "source": [
    "from src.mitigation.FairFeatureDistillation import FairFeatureDistillationBechmark\n",
    "from src.benchmark_models.ResNet18 import ResNet18"
   ]
  },
  {
   "cell_type": "code",
   "execution_count": 2,
   "outputs": [],
   "source": [
    "%load_ext autoreload\n",
    "%autoreload 2\n",
    "%reload_ext autoreload"
   ],
   "metadata": {
    "collapsed": false,
    "pycharm": {
     "name": "#%%\n"
    }
   }
  },
  {
   "cell_type": "code",
   "execution_count": 3,
   "outputs": [
    {
     "name": "stdout",
     "output_type": "stream",
     "text": [
      "Files already downloaded and verified\n",
      "Files already downloaded and verified\n",
      "Files already downloaded and verified\n"
     ]
    }
   ],
   "source": [
    "%reload_ext autoreload\n",
    "from src.datasets.CelebA_dataset import CelebADataset\n",
    "\n",
    "celeba_dataset = CelebADataset(input_shape=(128,128), usage=0.1)"
   ],
   "metadata": {
    "collapsed": false,
    "pycharm": {
     "name": "#%%\n"
    }
   }
  },
  {
   "cell_type": "code",
   "source": [
    "%reload_ext autoreload\n",
    "celeba_student_model = ResNet18()\n",
    "celeba_teacher_model_model = ResNet18()\n",
    "\n",
    "fair_contrastive_benchmark_celeba = FairFeatureDistillationBechmark(celeba_student_model, celeba_teacher_model_model, celeba_dataset, device=\"mps\", model_path=\"fair_feat_distill/celeba/default\", batch_size=32)\n",
    "fair_contrastive_benchmark_celeba.run_benchmark()"
   ],
   "metadata": {
    "collapsed": false,
    "pycharm": {
     "name": "#%%\n"
    }
   },
   "outputs": [],
   "execution_count": null
  },
  {
   "cell_type": "code",
   "execution_count": null,
   "outputs": [],
   "source": [
    "%reload_ext autoreload\n",
    "celeba_student_model = ResNet18()\n",
    "celeba_teacher_model_model = ResNet18()\n",
    "\n",
    "fair_contrastive_benchmark_celeba = FairFeatureDistillationBechmark(celeba_student_model, celeba_teacher_model_model, celeba_dataset, device=\"mps\", model_path=\"fair_feat_distill/celeba/default\", batch_size=32)\n",
    "fair_contrastive_benchmark_celeba.run_benchmark()"
   ],
   "metadata": {
    "collapsed": false,
    "pycharm": {
     "name": "#%%\n"
    }
   }
  }
 ],
 "metadata": {
  "kernelspec": {
   "display_name": "Python 3",
   "language": "python",
   "name": "python3"
  },
  "language_info": {
   "codemirror_mode": {
    "name": "ipython",
    "version": 2
   },
   "file_extension": ".py",
   "mimetype": "text/x-python",
   "name": "python",
   "nbconvert_exporter": "python",
   "pygments_lexer": "ipython2",
   "version": "2.7.6"
  }
 },
 "nbformat": 4,
 "nbformat_minor": 0
}
