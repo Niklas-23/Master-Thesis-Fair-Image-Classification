{
 "cells": [
  {
   "metadata": {
    "ExecuteTime": {
     "end_time": "2024-06-07T13:45:57.898579Z",
     "start_time": "2024-06-07T13:45:52.979220Z"
    }
   },
   "cell_type": "code",
   "source": [
    "import pandas as pd\n",
    "import seaborn as sns\n",
    "import matplotlib.pyplot as plt\n",
    "from scipy.stats import pearsonr\n",
    "import numpy as np"
   ],
   "id": "ef030780a0c36583",
   "execution_count": 5,
   "outputs": []
  },
  {
   "metadata": {
    "ExecuteTime": {
     "end_time": "2024-06-07T14:21:56.392861Z",
     "start_time": "2024-06-07T14:21:56.385398Z"
    }
   },
   "cell_type": "code",
   "source": [
    "def calculate_pearson_correlation(df, col1, col2):\n",
    "    return df[[col1, col2]].corr().iloc[0, 1]\n",
    "\n",
    "# Function to modify columns to achieve a desired correlation\n",
    "def modify_for_correlation(df, col1, col2, target_correlation):\n",
    "    current_correlation = abs(calculate_pearson_correlation(df, col1, col2))\n",
    "    print(f\"Initial correlation: {current_correlation}\")\n",
    "    if current_correlation >= target_correlation:\n",
    "        return df\n",
    "    while current_correlation < target_correlation and len(df) > 1:\n",
    "        # Calculate the correlation change for each row removal\n",
    "        correlation_changes = []\n",
    "        for index, row in df.iterrows():\n",
    "            temp_df = df.drop(index)\n",
    "            temp_corr = abs(calculate_pearson_correlation(temp_df, col1, col2))\n",
    "            correlation_changes.append((index, temp_corr))\n",
    "\n",
    "        top_n = 100\n",
    "        effective_top_n = top_n * (target_correlation - current_correlation)\n",
    "\n",
    "        sorted_correlation_changes = sorted(correlation_changes, key=lambda x: x[1], reverse=True)\n",
    "        top_indices = [index for index, _ in sorted_correlation_changes[:top_n]]\n",
    "        df = df.drop(index=top_indices)\n",
    "        current_correlation = abs(calculate_pearson_correlation(df, col1, col2))\n",
    "        print(f'Updated correlation: {current_correlation}, No. indices: {effective_top_n}')\n",
    "    return df"
   ],
   "id": "initial_id",
   "execution_count": 45,
   "outputs": []
  },
  {
   "metadata": {
    "ExecuteTime": {
     "end_time": "2024-06-07T13:59:56.984592Z",
     "start_time": "2024-06-07T13:59:56.860581Z"
    }
   },
   "cell_type": "code",
   "source": [
    "lfw_df = pd.read_csv(\"../datasets_data/LFW/lfw_dataset.csv\")\n",
    "lfw_df.head(5)"
   ],
   "id": "99a4dd234012dd6e",
   "execution_count": 23,
   "outputs": []
  },
  {
   "metadata": {
    "ExecuteTime": {
     "end_time": "2024-06-07T14:13:44.825379Z",
     "start_time": "2024-06-07T14:13:43.955924Z"
    }
   },
   "cell_type": "code",
   "source": [
    "def plot_feature_distribution_ratio(df):\n",
    "    features = []\n",
    "    ratios = []\n",
    "    column_set = lfw_df.columns.drop(labels=[\"imagenum\", \"person\", \"filename_person\", \"filename_complete\", \"Male\"])\n",
    "    for column in column_set:\n",
    "        # Count the number of samples for each class (0 and 1) for the current feature\n",
    "        counts = df[column].value_counts(normalize=True)\n",
    "\n",
    "        # Ensure both 0 and 1 are present in the value_counts, else fill with 0\n",
    "        zero_count = counts.get(0, 0)\n",
    "        one_count = counts.get(1, 0)\n",
    "\n",
    "        # Calculate the ratio\n",
    "        ratio = one_count / zero_count if zero_count != 0 else np.inf\n",
    "        features.append(column)\n",
    "        ratios.append(ratio)\n",
    "\n",
    "    # Combine the features and ratios into a list of tuples and sort by ratio in descending order\n",
    "    sorted_pairs = sorted(zip(features, ratios), key=lambda x: x[1], reverse=True)\n",
    "    sorted_features, sorted_ratios = zip(*sorted_pairs)\n",
    "\n",
    "    plt.figure(figsize=(10, 6))\n",
    "    plt.bar(sorted_features, sorted_ratios, color='blue')\n",
    "    plt.xlabel('Features')\n",
    "    plt.ylabel('Ratio of 1s to 0s')\n",
    "    plt.title('Distribution Ratio of LFW Features')\n",
    "    plt.xticks(rotation=90)\n",
    "    plt.yscale('log')  # Use a logarithmic scale for better visualization of large ratios\n",
    "    plt.grid(axis='y', linestyle='--', alpha=0.7)\n",
    "\n",
    "    plt.tight_layout()\n",
    "    plt.savefig(\"dataset_plots/lfw_target_ratio.png\", dpi=200)\n",
    "    plt.show()\n",
    "    \n",
    "plot_feature_distribution_ratio(lfw_df)"
   ],
   "id": "c8b478583cc7e05e",
   "execution_count": 37,
   "outputs": []
  },
  {
   "metadata": {
    "ExecuteTime": {
     "end_time": "2024-06-07T13:56:54.892381Z",
     "start_time": "2024-06-07T13:56:54.789081Z"
    }
   },
   "cell_type": "code",
   "source": [
    "from jupyter_notebooks.dataset_analysis.dataset_analysis_utils import plot_target_distribution\n",
    "\n",
    "plot_target_distribution(lfw_df, \"Color Photo\")"
   ],
   "id": "463cdf5a1d3ba179",
   "execution_count": 16,
   "outputs": []
  },
  {
   "metadata": {
    "ExecuteTime": {
     "end_time": "2024-06-07T14:14:04.858108Z",
     "start_time": "2024-06-07T14:14:03.587744Z"
    }
   },
   "cell_type": "code",
   "source": [
    "correlations = {}\n",
    "column_set = lfw_df.columns.drop(labels=[\"imagenum\", \"person\", \"filename_person\", \"filename_complete\", \"Male\"])\n",
    "for column in column_set:\n",
    "    if column != 'male_gender':\n",
    "        corr, _ = pearsonr(lfw_df['male_gender'], lfw_df[column])\n",
    "        correlations[column] = abs(corr)\n",
    "\n",
    "\n",
    "correlation_df = pd.DataFrame(list(correlations.items()), columns=['Feature', 'Correlation'])\n",
    "correlation_df = correlation_df.sort_values(by='Correlation', ascending=False)\n",
    "\n",
    "plt.figure(figsize=(20, 6))\n",
    "barplot = sns.barplot(x='Feature', y='Correlation', data=correlation_df)\n",
    "plt.title('Correlation between features and gender')\n",
    "plt.xlabel('Feature')\n",
    "plt.xticks(rotation=90)\n",
    "plt.ylabel('Correlation')\n",
    "\n",
    "for p in barplot.patches:\n",
    "    barplot.annotate(format(p.get_height(), '.2f'),\n",
    "                     (p.get_x() + p.get_width() / 2., p.get_height()),\n",
    "                     ha = 'center', va = 'center',\n",
    "                     xytext = (0, 9), textcoords = 'offset points')\n",
    "\n",
    "plt.tight_layout()\n",
    "plt.savefig(\"dataset_plots/lfw_correlation.png\", dpi=200)\n",
    "plt.show()"
   ],
   "id": "a5dc048d31c133f4",
   "execution_count": 39,
   "outputs": []
  },
  {
   "metadata": {
    "ExecuteTime": {
     "end_time": "2024-06-07T14:16:43.644684Z",
     "start_time": "2024-06-07T14:16:43.547676Z"
    }
   },
   "cell_type": "code",
   "source": [
    "from jupyter_notebooks.dataset_analysis.dataset_analysis_utils import plot_target_distribution\n",
    "\n",
    "plot_target_distribution(lfw_df, \"Strong Nose-Mouth Lines\")"
   ],
   "id": "85cd707a10caebc9",
   "execution_count": 43,
   "outputs": []
  },
  {
   "metadata": {
    "ExecuteTime": {
     "end_time": "2024-06-07T14:17:04.749841Z",
     "start_time": "2024-06-07T14:17:04.609417Z"
    }
   },
   "cell_type": "code",
   "source": [
    "from jupyter_notebooks.dataset_analysis.dataset_analysis_utils import plot_protected_feature_distribution\n",
    "\n",
    "plot_protected_feature_distribution(lfw_df, \"Strong Nose-Mouth Lines\", \"male_gender\")"
   ],
   "id": "559dfdb7b5fb73cc",
   "execution_count": 44,
   "outputs": []
  },
  {
   "metadata": {
    "ExecuteTime": {
     "end_time": "2024-06-07T14:36:28.700644Z",
     "start_time": "2024-06-07T14:22:04.241301Z"
    }
   },
   "cell_type": "code",
   "source": "new_df = modify_for_correlation(lfw_df, \"Strong Nose-Mouth Lines\", \"male_gender\", 0.8)",
   "id": "d429ace895cbb7f1",
   "execution_count": 46,
   "outputs": []
  },
  {
   "metadata": {
    "ExecuteTime": {
     "end_time": "2024-06-07T16:12:09.560452Z",
     "start_time": "2024-06-07T15:12:39.287185Z"
    }
   },
   "cell_type": "code",
   "source": [
    "for skew_level in [0.2, 0.4, 0.6 , 0.8, 0.99]:\n",
    "    print(f\"Skew generation for skew level: {skew_level}\")\n",
    "    skewed_df = modify_for_correlation(lfw_df, \"Strong Nose-Mouth Lines\", \"male_gender\", skew_level)\n",
    "    skewed_df.to_csv(f\"../datasets_data/LFW/lfw_dataset_male__strong_nose_mouth_skewed_{skew_level}.csv\")"
   ],
   "id": "e1aa3c7912204658",
   "execution_count": 48,
   "outputs": []
  }
 ],
 "metadata": {
  "kernelspec": {
   "display_name": "Python 3",
   "language": "python",
   "name": "python3"
  },
  "language_info": {
   "codemirror_mode": {
    "name": "ipython",
    "version": 2
   },
   "file_extension": ".py",
   "mimetype": "text/x-python",
   "name": "python",
   "nbconvert_exporter": "python",
   "pygments_lexer": "ipython2",
   "version": "2.7.6"
  }
 },
 "nbformat": 4,
 "nbformat_minor": 5
}
