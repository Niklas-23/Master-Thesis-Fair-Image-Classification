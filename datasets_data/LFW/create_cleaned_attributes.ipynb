{
 "cells": [
  {
   "cell_type": "code",
   "source": [
    "import pandas as pd"
   ],
   "metadata": {
    "collapsed": false,
    "pycharm": {
     "name": "#%%\n"
    },
    "ExecuteTime": {
     "end_time": "2024-06-07T13:53:06.659060Z",
     "start_time": "2024-06-07T13:53:06.656808Z"
    }
   },
   "outputs": [],
   "execution_count": 1
  },
  {
   "cell_type": "code",
   "source": [
    "df_attributes = pd.read_csv(\"attributes.csv\", sep='\\t', low_memory=False)\n",
    "print(df_attributes.head(2))\n",
    "\n",
    "df_male = pd.read_csv(\"male_names.txt\")\n",
    "print(df_male.head(2))"
   ],
   "metadata": {
    "collapsed": false,
    "pycharm": {
     "name": "#%%\n"
    },
    "ExecuteTime": {
     "end_time": "2024-06-07T13:53:06.802252Z",
     "start_time": "2024-06-07T13:53:06.659855Z"
    }
   },
   "outputs": [
    {
     "name": "stdout",
     "output_type": "stream",
     "text": [
      "          person  imagenum      Male     Asian     White     Black      Baby  \\\n",
      "0  Aaron Eckhart         1  1.568346 -1.889043  1.737203 -0.929729 -1.471799   \n",
      "1    Aaron Guiel         1  0.169851 -0.982408  0.422709 -1.282184 -1.360060   \n",
      "\n",
      "      Child     Youth  Middle Aged  ...  Pale Skin  5 o' Clock Shadow  \\\n",
      "0 -0.195580 -0.835609    -0.351468  ...   0.361738           1.166118   \n",
      "1 -0.867002 -0.452293    -0.197521  ...  -0.832036          -0.397680   \n",
      "\n",
      "   Strong Nose-Mouth Lines  Wearing Lipstick  Flushed Face  High Cheekbones  \\\n",
      "0                -1.164916         -1.139990     -2.371746        -1.299932   \n",
      "1                 0.874160         -0.945431     -0.268649        -0.006244   \n",
      "\n",
      "   Brown Eyes  Wearing Earrings  Wearing Necktie  Wearing Necklace  \n",
      "0   -0.414682         -1.144902         0.694007         -0.826609  \n",
      "1   -0.030406         -0.480128         0.666760         -0.496559  \n",
      "\n",
      "[2 rows x 75 columns]\n",
      "                   filenames\n",
      "0       Alfred_Ford_0001.jpg\n",
      "1  Craig_Fitzgibbon_0001.jpg\n"
     ]
    }
   ],
   "execution_count": 2
  },
  {
   "cell_type": "code",
   "source": [
    "df_attributes['filename_person'] = df_attributes['person'].apply(lambda x: '_'.join(x.split()[:]))  # Create filename like person name\n",
    "#df.to_csv(\"test_attr.csv\")\n",
    "\n",
    "df_male[\"filename_person\"] = df_male['filenames'].str[:-9] # remove filename end _0001.jpg\n",
    "\n",
    "#df_male.to_csv(\"males_csv_mtep.csv\")\n",
    "\n",
    "male_names = df_male[\"filename_person\"].tolist()\n",
    "male_gender = []\n",
    "\n",
    "for index, row in df_attributes.iterrows():\n",
    "    if row['filename_person'] in male_names:\n",
    "        male_gender.append(1)\n",
    "    else:\n",
    "        male_gender.append(0)\n",
    "\n",
    "df_attributes['male_gender'] = male_gender\n",
    "df_attributes.to_csv(\"lfw_attributes_cleaned.csv\")"
   ],
   "metadata": {
    "collapsed": false,
    "pycharm": {
     "name": "#%%\n"
    },
    "ExecuteTime": {
     "end_time": "2024-06-07T13:53:08.121180Z",
     "start_time": "2024-06-07T13:53:06.803865Z"
    }
   },
   "outputs": [],
   "execution_count": 3
  },
  {
   "cell_type": "code",
   "source": [
    "filenames_complete = []\n",
    "\n",
    "for index, row in df_attributes.iterrows():\n",
    "    image_num = str(row['imagenum']).zfill(4)\n",
    "    filenames_complete.append(f\"{row['filename_person']}/{row['filename_person']}_{image_num}.jpg\")\n",
    "\n",
    "df_attributes[\"filename_complete\"] = filenames_complete\n",
    "df_attributes.to_csv(\"lfw_attributes_cleaned.csv\")"
   ],
   "metadata": {
    "collapsed": false,
    "pycharm": {
     "name": "#%%\n"
    },
    "ExecuteTime": {
     "end_time": "2024-06-07T13:53:09.008025Z",
     "start_time": "2024-06-07T13:53:08.122044Z"
    }
   },
   "outputs": [],
   "execution_count": 4
  },
  {
   "metadata": {
    "ExecuteTime": {
     "end_time": "2024-06-07T13:59:45.575329Z",
     "start_time": "2024-06-07T13:59:45.393756Z"
    }
   },
   "cell_type": "code",
   "source": [
    "for col in df_attributes.columns:\n",
    "    if df_attributes[col].dtype == 'float64':\n",
    "        print(col)\n",
    "        df_attributes[col] = df_attributes[col].apply(lambda x: 0 if x <= 0 else 1).astype(int)\n",
    "df_attributes.to_csv(\"lfw_dataset.csv\", index=False)"
   ],
   "outputs": [],
   "execution_count": 6
  },
  {
   "metadata": {},
   "cell_type": "code",
   "outputs": [],
   "execution_count": null,
   "source": ""
  }
 ],
 "metadata": {
  "kernelspec": {
   "display_name": "Python 3",
   "language": "python",
   "name": "python3"
  },
  "language_info": {
   "codemirror_mode": {
    "name": "ipython",
    "version": 2
   },
   "file_extension": ".py",
   "mimetype": "text/x-python",
   "name": "python",
   "nbconvert_exporter": "python",
   "pygments_lexer": "ipython2",
   "version": "2.7.6"
  }
 },
 "nbformat": 4,
 "nbformat_minor": 0
}
