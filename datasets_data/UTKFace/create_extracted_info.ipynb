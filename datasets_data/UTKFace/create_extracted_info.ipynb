{
 "cells": [
  {
   "cell_type": "code",
   "execution_count": 14,
   "source": [
    "import os\n",
    "import re\n",
    "import pandas as pd\n",
    "\n",
    "# Path to the folder containing the images\n",
    "folder_path = \"./UTKFace\"\n",
    "\n",
    "data = []\n",
    "\n",
    "# Iterate through the folder\n",
    "for file in os.listdir(folder_path):\n",
    "    if file.endswith(\".jpg.chip.jpg\"):\n",
    "        # Extract information from the filename\n",
    "        match = re.match(r'(\\d+)_(\\w+)_(\\w+)_(\\d+)\\.jpg.chip.jpg', file)\n",
    "        if match:\n",
    "            age, gender, race, date_time = match.groups()\n",
    "            data.append({'Age': int(age), 'Gender': gender, 'Race': race, 'Date_and_Time': int(date_time), \"File\": file})\n",
    "\n",
    "df = pd.DataFrame(data)\n",
    "df = df.dropna()\n",
    "print(df)\n",
    "df.to_csv(\"utk_face_extracted_info_cleaned.csv\", index=False)"
   ],
   "metadata": {
    "collapsed": false,
    "pycharm": {
     "name": "#%%\n"
    }
   },
   "outputs": []
  },
  {
   "cell_type": "code",
   "execution_count": 17,
   "source": [
    "import os\n",
    "\n",
    "def check_file_existence(file_path):\n",
    "    return os.path.exists(file_path)\n",
    "\n",
    "for index, row in df.iterrows():\n",
    "    file_path = row['File']\n",
    "    full_path = f\"./UTKFace/{file_path}\"\n",
    "    if check_file_existence(full_path):\n",
    "        pass\n",
    "        #print(f\"File {full_path} exists.\")\n",
    "    else:\n",
    "        print(f\"ERROR: File {full_path} DOES NOT EXIST.\")\n"
   ],
   "metadata": {
    "collapsed": false,
    "pycharm": {
     "name": "#%%\n"
    }
   },
   "outputs": []
  }
 ],
 "metadata": {
  "kernelspec": {
   "display_name": "Python 3",
   "language": "python",
   "name": "python3"
  },
  "language_info": {
   "codemirror_mode": {
    "name": "ipython",
    "version": 2
   },
   "file_extension": ".py",
   "mimetype": "text/x-python",
   "name": "python",
   "nbconvert_exporter": "python",
   "pygments_lexer": "ipython2",
   "version": "2.7.6"
  }
 },
 "nbformat": 4,
 "nbformat_minor": 0
}
